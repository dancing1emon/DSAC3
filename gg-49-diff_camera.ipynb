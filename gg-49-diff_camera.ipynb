{
  "nbformat": 4,
  "nbformat_minor": 0,
  "metadata": {
    "kernelspec": {
      "display_name": "Python 3",
      "language": "python",
      "name": "python3"
    },
    "language_info": {
      "codemirror_mode": {
        "name": "ipython",
        "version": 3
      },
      "file_extension": ".py",
      "mimetype": "text/x-python",
      "name": "python",
      "nbconvert_exporter": "python",
      "pygments_lexer": "ipython3",
      "version": "3.6.8"
    },
    "colab": {
      "name": "gg_49_diff_camera.ipynb",
      "provenance": [],
      "collapsed_sections": []
    }
  },
  "cells": [
    {
      "cell_type": "markdown",
      "metadata": {
        "id": "6HM7yCMn2cLs"
      },
      "source": [
        "# 움직임 검출\r\n",
        "\r\n",
        "<table class=\"tfo-notebook-buttons\" align=\"left\">\r\n",
        "  <td>\r\n",
        "    <a target=\"_blank\" href=\"https://colab.research.google.com/github/swkim01/DSAC3/blob/main/gg-49-diff_camera.ipynb\"><img src=\"https://github.com/swkim01/DSAC3/raw/main/colab_logo_32px.png\" />구글 코랩에서 실행</a>\r\n",
        "  </td>\r\n",
        "  <td>\r\n",
        "    <a target=\"_blank\" href=\"https://github.com/swkim01/DSAC3/blob/main/gg-49-diff_camera.ipynb\"><img src=\"https://github.com/swkim01/DSAC3/raw/main/GitHub-Mark-32px.png\" />깃헙에서 소스 보기</a>\r\n",
        "  </td>\r\n",
        "</table>"
      ]
    },
    {
      "cell_type": "markdown",
      "metadata": {
        "id": "ibFdJ3g82cMG"
      },
      "source": [
        "### Camera로 부터 영상 재생 - Camera로부터 영상을 읽어, 화면에 보이기 위한 절차\n",
        "\n",
        "- VideoCapture Object를 생성합니다. 변수로는 camera device index나 동영상 파일명을 \n",
        "  넘겨줍니다. 일반적으로 0 이면 Camera와 연결이 됩니다.\n",
        "- Loop를 돌면서 frame을 읽어 들입니다.\n",
        "- 이전 연속된 두 프레임에서 변화된 부분을 추출하면 움직임을 추출한 후, 움직임이 발생한 부분(변화된 부분)을 화면에 보여줍니다.\n",
        "- 영상 재생이 끝나면, VideoCapure Object를 release하고 window를 닫습니다."
      ]
    },
    {
      "cell_type": "markdown",
      "metadata": {
        "id": "V91IgEW52cMI"
      },
      "source": [
        "- 동영상 재생시에는 해당 동영상의 Codec이 설치되어 있어야 합니다."
      ]
    },
    {
      "cell_type": "code",
      "metadata": {
        "id": "oaXtulVK2cMI"
      },
      "source": [
        "import cv2\n",
        "import numpy as np"
      ],
      "execution_count": null,
      "outputs": []
    },
    {
      "cell_type": "code",
      "metadata": {
        "id": "9VVCJevQ2cMK"
      },
      "source": [
        "cap = cv2.VideoCapture(0)\n",
        "img_last = None # 이전 프레임을 저장해둘 변수 --- (*1)\n",
        "green = (0, 255, 0)"
      ],
      "execution_count": null,
      "outputs": []
    },
    {
      "cell_type": "code",
      "metadata": {
        "id": "iSF-mFhC_P7F"
      },
      "source": [
        "while True:\r\n",
        "    # 이미지 추출하기\r\n",
        "    _, frame = cap.read()\r\n",
        "    frame = cv2.resize(frame, (500, 300))\r\n",
        "    # 흑백 이미지로 변환하기 --- (*2)\r\n",
        "    gray = cv2.cvtColor(frame, cv2.COLOR_BGR2GRAY)\r\n",
        "    gray = cv2.GaussianBlur(gray, (9, 9), 0)\r\n",
        "    img_b = cv2.threshold(gray, 100, 255, cv2.THRESH_BINARY)[1]\r\n",
        "    # 차이 확인하기\r\n",
        "    if img_last is None:\r\n",
        "        img_last = img_b\r\n",
        "        continue\r\n",
        "    frame_diff = cv2.absdiff(img_last, img_b) # --- (*3)\r\n",
        "    cnts = cv2.findContours(frame_diff, \r\n",
        "            cv2.RETR_EXTERNAL,\r\n",
        "            cv2.CHAIN_APPROX_SIMPLE)[0]\r\n",
        "    # 차이가 있는 부분 출력하기 --- (*4)\r\n",
        "    for pt in cnts:\r\n",
        "        x, y, w, h = cv2.boundingRect(pt)\r\n",
        "        if w < 50: continue # 작은 변경은 무시하기\r\n",
        "        cv2.rectangle(frame, (x, y), (x+w, y+h), green, 2)\r\n",
        "    # 프레임을 변수에 저장해두기 --- (*5)\r\n",
        "    img_last = img_b\r\n",
        "    # 화면에 출력하기\r\n",
        "    cv2.imshow(\"Diff Camera\", frame)\r\n",
        "    cv2.imshow(\"diff data\", frame_diff)\r\n",
        "    if cv2.waitKey(1) == 13: break\r\n",
        "    \r\n",
        "cap.release()\r\n",
        "cv2.destroyAllWindows()"
      ],
      "execution_count": null,
      "outputs": []
    },
    {
      "cell_type": "code",
      "metadata": {
        "id": "AtnSp9bh2cML"
      },
      "source": [
        ""
      ],
      "execution_count": null,
      "outputs": []
    }
  ]
}