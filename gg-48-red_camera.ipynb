{
  "nbformat": 4,
  "nbformat_minor": 0,
  "metadata": {
    "kernelspec": {
      "display_name": "Python 3",
      "language": "python",
      "name": "python3"
    },
    "language_info": {
      "codemirror_mode": {
        "name": "ipython",
        "version": 3
      },
      "file_extension": ".py",
      "mimetype": "text/x-python",
      "name": "python",
      "nbconvert_exporter": "python",
      "pygments_lexer": "ipython3",
      "version": "3.6.8"
    },
    "colab": {
      "name": "gg_48_red_camera.ipynb",
      "provenance": [],
      "collapsed_sections": []
    }
  },
  "cells": [
    {
      "cell_type": "markdown",
      "metadata": {
        "id": "6HM7yCMn2cLs"
      },
      "source": [
        "# 동영상 재생\r\n",
        "\r\n",
        "<table class=\"tfo-notebook-buttons\" align=\"left\">\r\n",
        "  <td>\r\n",
        "    <a target=\"_blank\" href=\"https://colab.research.google.com/github/swkim01/DSAC3/blob/main/gg-48-red_camera.ipynb\"><img src=\"https://github.com/swkim01/DSAC3/raw/main/colab_logo_32px.png\" />구글 코랩에서 실행</a>\r\n",
        "  </td>\r\n",
        "  <td>\r\n",
        "    <a target=\"_blank\" href=\"https://github.com/swkim01/DSAC3/blob/main/gg-48-red_camera.ipynb\"><img src=\"https://github.com/swkim01/DSAC3/raw/main/GitHub-Mark-32px.png\" />깃헙에서 소스 보기</a>\r\n",
        "  </td>\r\n",
        "</table>"
      ]
    },
    {
      "cell_type": "markdown",
      "metadata": {
        "id": "ibFdJ3g82cMG"
      },
      "source": [
        "### Camera로 부터 영상 재생 - Camera로부터 영상을 읽어, 화면에 보이기 위한 절차\n",
        "\n",
        "- VideoCapture Object를 생성합니다. 변수로는 camera device index나 동영상 파일명을 \n",
        "  넘겨줍니다. 일반적으로 0 이면 Camera와 연결이 됩니다.\n",
        "- Loop를 돌면서 frame을 읽어 들입니다.\n",
        "- 읽은 frame에 대해서 초록색과 파란색 성분을 없애고 붉은색 성분만 남기고 , 화면에 보여줍니다.\n",
        "- 영상 재생이 끝나면, VideoCapure Object를 release하고 window를 닫습니다."
      ]
    },
    {
      "cell_type": "markdown",
      "metadata": {
        "id": "V91IgEW52cMI"
      },
      "source": [
        "- 동영상 재생시에는 해당 동영상의 Codec이 설치되어 있어야 합니다."
      ]
    },
    {
      "cell_type": "code",
      "metadata": {
        "id": "oaXtulVK2cMI"
      },
      "source": [
        "import cv2\n",
        "import numpy as np"
      ],
      "execution_count": null,
      "outputs": []
    },
    {
      "cell_type": "code",
      "metadata": {
        "id": "9VVCJevQ2cMK"
      },
      "source": [
        "cap = cv2.VideoCapture(0)\n",
        "while True:\n",
        "    _, frame = cap.read()\n",
        "    frame = cv2.resize(frame, (500,300))\n",
        "    # 파란색과 녹색 부분 제거하기---(*1)\n",
        "    frame[:, :, 0] = 0 # 파란색을 0으로\n",
        "    frame[:, :, 1] = 0 # 초록색을 0으로\n",
        "    cv2.imshow('RED Camera', frame)\n",
        "    if cv2.waitKey(1) == 13: break\n",
        "\n",
        "cap.release() # 카메라 해제하기\n",
        "cv2.destroyAllWindows() # 윈도우 제거하기"
      ],
      "execution_count": null,
      "outputs": []
    },
    {
      "cell_type": "code",
      "metadata": {
        "id": "AtnSp9bh2cML"
      },
      "source": [
        ""
      ],
      "execution_count": null,
      "outputs": []
    }
  ]
}