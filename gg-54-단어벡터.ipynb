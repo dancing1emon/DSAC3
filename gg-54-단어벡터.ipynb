{
  "nbformat": 4,
  "nbformat_minor": 0,
  "metadata": {
    "accelerator": "GPU",
    "colab": {
      "name": "gg_54_단어벡터.ipynb",
      "provenance": [],
      "collapsed_sections": []
    },
    "kernelspec": {
      "display_name": "Python 3",
      "language": "python",
      "name": "python3"
    },
    "language_info": {
      "codemirror_mode": {
        "name": "ipython",
        "version": 3
      },
      "file_extension": ".py",
      "mimetype": "text/x-python",
      "name": "python",
      "nbconvert_exporter": "python",
      "pygments_lexer": "ipython3",
      "version": "3.6.6"
    }
  },
  "cells": [
    {
      "cell_type": "markdown",
      "metadata": {
        "id": "RSiTy5MDXBnt"
      },
      "source": [
        "# 단어벡터\n",
        "- 빅카인즈 뉴스기사 데이터 활용(https://www.bigkinds.or.kr/)\n",
        "\n",
        "<table class=\"tfo-notebook-buttons\" align=\"left\">\n",
        "  <td>\n",
        "    <a target=\"_blank\" href=\"https://colab.research.google.com/github/swkim01/DSAC3/blob/main/gg-54-단어벡터.ipynb\"><img src=\"https://github.com/swkim01/DSAC3/raw/main/colab_logo_32px.png\" />구글 코랩에서 실행</a>\n",
        "  </td>\n",
        "  <td>\n",
        "    <a target=\"_blank\" href=\"https://github.com/swkim01/DSAC3/blob/main/gg-54-단어벡터.ipynb\"><img src=\"https://github.com/swkim01/DSAC3/raw/main/GitHub-Mark-32px.png\" />깃헙에서 소스 보기</a>\n",
        "  </td>\n",
        "</table>"
      ]
    },
    {
      "cell_type": "markdown",
      "metadata": {
        "id": "6VHnsDHlXBn7"
      },
      "source": [
        "# 뉴스를 이용한 단어 벡터 생성"
      ]
    },
    {
      "cell_type": "code",
      "metadata": {
        "colab": {
          "base_uri": "https://localhost:8080/"
        },
        "id": "xDM2364masZe",
        "outputId": "740520ba-76a9-4f36-c63c-db7e5b70ddca"
      },
      "source": [
        "!pip install konlpy"
      ],
      "execution_count": null,
      "outputs": [
        {
          "output_type": "stream",
          "text": [
            "Collecting konlpy\n",
            "\u001b[?25l  Downloading https://files.pythonhosted.org/packages/85/0e/f385566fec837c0b83f216b2da65db9997b35dd675e107752005b7d392b1/konlpy-0.5.2-py2.py3-none-any.whl (19.4MB)\n",
            "\u001b[K     |████████████████████████████████| 19.4MB 1.3MB/s \n",
            "\u001b[?25hRequirement already satisfied: lxml>=4.1.0 in /usr/local/lib/python3.6/dist-packages (from konlpy) (4.2.6)\n",
            "Collecting colorama\n",
            "  Downloading https://files.pythonhosted.org/packages/44/98/5b86278fbbf250d239ae0ecb724f8572af1c91f4a11edf4d36a206189440/colorama-0.4.4-py2.py3-none-any.whl\n",
            "Collecting tweepy>=3.7.0\n",
            "  Downloading https://files.pythonhosted.org/packages/67/c3/6bed87f3b1e5ed2f34bd58bf7978e308c86e255193916be76e5a5ce5dfca/tweepy-3.10.0-py2.py3-none-any.whl\n",
            "Collecting beautifulsoup4==4.6.0\n",
            "\u001b[?25l  Downloading https://files.pythonhosted.org/packages/9e/d4/10f46e5cfac773e22707237bfcd51bbffeaf0a576b0a847ec7ab15bd7ace/beautifulsoup4-4.6.0-py3-none-any.whl (86kB)\n",
            "\u001b[K     |████████████████████████████████| 92kB 13.1MB/s \n",
            "\u001b[?25hRequirement already satisfied: numpy>=1.6 in /usr/local/lib/python3.6/dist-packages (from konlpy) (1.19.5)\n",
            "Collecting JPype1>=0.7.0\n",
            "\u001b[?25l  Downloading https://files.pythonhosted.org/packages/de/af/93f92b38ec1ff3091cd38982ed19cea2800fefb609b5801c41fc43c0781e/JPype1-1.2.1-cp36-cp36m-manylinux2010_x86_64.whl (457kB)\n",
            "\u001b[K     |████████████████████████████████| 460kB 51.6MB/s \n",
            "\u001b[?25hRequirement already satisfied: six>=1.10.0 in /usr/local/lib/python3.6/dist-packages (from tweepy>=3.7.0->konlpy) (1.15.0)\n",
            "Requirement already satisfied: requests-oauthlib>=0.7.0 in /usr/local/lib/python3.6/dist-packages (from tweepy>=3.7.0->konlpy) (1.3.0)\n",
            "Requirement already satisfied: requests[socks]>=2.11.1 in /usr/local/lib/python3.6/dist-packages (from tweepy>=3.7.0->konlpy) (2.23.0)\n",
            "Requirement already satisfied: typing-extensions; python_version < \"3.8\" in /usr/local/lib/python3.6/dist-packages (from JPype1>=0.7.0->konlpy) (3.7.4.3)\n",
            "Requirement already satisfied: oauthlib>=3.0.0 in /usr/local/lib/python3.6/dist-packages (from requests-oauthlib>=0.7.0->tweepy>=3.7.0->konlpy) (3.1.0)\n",
            "Requirement already satisfied: chardet<4,>=3.0.2 in /usr/local/lib/python3.6/dist-packages (from requests[socks]>=2.11.1->tweepy>=3.7.0->konlpy) (3.0.4)\n",
            "Requirement already satisfied: certifi>=2017.4.17 in /usr/local/lib/python3.6/dist-packages (from requests[socks]>=2.11.1->tweepy>=3.7.0->konlpy) (2020.12.5)\n",
            "Requirement already satisfied: idna<3,>=2.5 in /usr/local/lib/python3.6/dist-packages (from requests[socks]>=2.11.1->tweepy>=3.7.0->konlpy) (2.10)\n",
            "Requirement already satisfied: urllib3!=1.25.0,!=1.25.1,<1.26,>=1.21.1 in /usr/local/lib/python3.6/dist-packages (from requests[socks]>=2.11.1->tweepy>=3.7.0->konlpy) (1.24.3)\n",
            "Requirement already satisfied: PySocks!=1.5.7,>=1.5.6; extra == \"socks\" in /usr/local/lib/python3.6/dist-packages (from requests[socks]>=2.11.1->tweepy>=3.7.0->konlpy) (1.7.1)\n",
            "Installing collected packages: colorama, tweepy, beautifulsoup4, JPype1, konlpy\n",
            "  Found existing installation: tweepy 3.6.0\n",
            "    Uninstalling tweepy-3.6.0:\n",
            "      Successfully uninstalled tweepy-3.6.0\n",
            "  Found existing installation: beautifulsoup4 4.6.3\n",
            "    Uninstalling beautifulsoup4-4.6.3:\n",
            "      Successfully uninstalled beautifulsoup4-4.6.3\n",
            "Successfully installed JPype1-1.2.1 beautifulsoup4-4.6.0 colorama-0.4.4 konlpy-0.5.2 tweepy-3.10.0\n"
          ],
          "name": "stdout"
        }
      ]
    },
    {
      "cell_type": "code",
      "metadata": {
        "id": "TcpN2NDuXBn9"
      },
      "source": [
        "from konlpy.tag import Kkma\n",
        "from gensim.models.word2vec import Word2Vec\n",
        "kkma = Kkma()"
      ],
      "execution_count": null,
      "outputs": []
    },
    {
      "cell_type": "markdown",
      "metadata": {
        "id": "7R5lqDRhXBoy"
      },
      "source": [
        "# IT 뉴스기사를 이용한 단어 벡터"
      ]
    },
    {
      "cell_type": "code",
      "metadata": {
        "colab": {
          "base_uri": "https://localhost:8080/"
        },
        "id": "_xmQLbrQqNhq",
        "outputId": "6b6342e7-c4c5-45f8-e886-96a715685026"
      },
      "source": [
        "!wget https://bit.ly/2X7UON2 -O news2018.xlsx"
      ],
      "execution_count": null,
      "outputs": [
        {
          "output_type": "stream",
          "text": [
            "--2021-01-28 15:42:46--  https://bit.ly/2X7UON2\n",
            "Resolving bit.ly (bit.ly)... 67.199.248.11, 67.199.248.10\n",
            "Connecting to bit.ly (bit.ly)|67.199.248.11|:443... connected.\n",
            "HTTP request sent, awaiting response... 301 Moved Permanently\n",
            "Location: https://www.dropbox.com/s/gr5jhlshp8m3iqn/NewsResult_20181128-20190228.xlsx [following]\n",
            "--2021-01-28 15:42:46--  https://www.dropbox.com/s/gr5jhlshp8m3iqn/NewsResult_20181128-20190228.xlsx\n",
            "Resolving www.dropbox.com (www.dropbox.com)... 162.125.6.18, 2620:100:601c:18::a27d:612\n",
            "Connecting to www.dropbox.com (www.dropbox.com)|162.125.6.18|:443... connected.\n",
            "HTTP request sent, awaiting response... 301 Moved Permanently\n",
            "Location: /s/raw/gr5jhlshp8m3iqn/NewsResult_20181128-20190228.xlsx [following]\n",
            "--2021-01-28 15:42:46--  https://www.dropbox.com/s/raw/gr5jhlshp8m3iqn/NewsResult_20181128-20190228.xlsx\n",
            "Reusing existing connection to www.dropbox.com:443.\n",
            "HTTP request sent, awaiting response... 302 Found\n",
            "Location: https://uc55ca34dc44b6bdacd44cc29b46.dl.dropboxusercontent.com/cd/0/inline/BH0cJHy4gjB2RGiukIGWD5_RCihNLDNNN3tNHilb6ARrHgfSO_FRh8TGATf1-njSmrQljOqrTA27HV3lXQzxaxKoD6FrbIElNiN3jAq6XP13sw/file# [following]\n",
            "--2021-01-28 15:42:46--  https://uc55ca34dc44b6bdacd44cc29b46.dl.dropboxusercontent.com/cd/0/inline/BH0cJHy4gjB2RGiukIGWD5_RCihNLDNNN3tNHilb6ARrHgfSO_FRh8TGATf1-njSmrQljOqrTA27HV3lXQzxaxKoD6FrbIElNiN3jAq6XP13sw/file\n",
            "Resolving uc55ca34dc44b6bdacd44cc29b46.dl.dropboxusercontent.com (uc55ca34dc44b6bdacd44cc29b46.dl.dropboxusercontent.com)... 162.125.6.15, 2620:100:601c:15::a27d:60f\n",
            "Connecting to uc55ca34dc44b6bdacd44cc29b46.dl.dropboxusercontent.com (uc55ca34dc44b6bdacd44cc29b46.dl.dropboxusercontent.com)|162.125.6.15|:443... connected.\n",
            "HTTP request sent, awaiting response... 302 Found\n",
            "Location: /cd/0/inline2/BH0aH0eO9NYgKOzPm1qmzsFzs0Yc8wc181C4Ktdub29m7wX9mGnKiyQ1RtEIOxdneY923S05fCo2H4G45bPWIiwevZ-ebV9CmFXrhx4FIA4xycieRA-efbUER8__uCjoUtghyRme0yATaPZYvRyuJ6mWCW-OmCFCxtroYhJzkHdxikHXvYnueBMOr9cqK8_dY026bGKYgwrMbLKC_XuAP8lVn5a4TBE2rvzkXLadbbZga5f5e8JuHZAlufcV8re-qEuQK62KY74uZDeeuZq8QlgmH5fDOvbamGM9grWxoQHKYYXP7VFTcHxzM_-_gCD_V7_lLoKhK0JVDTjgh5twCQCF/file [following]\n",
            "--2021-01-28 15:42:47--  https://uc55ca34dc44b6bdacd44cc29b46.dl.dropboxusercontent.com/cd/0/inline2/BH0aH0eO9NYgKOzPm1qmzsFzs0Yc8wc181C4Ktdub29m7wX9mGnKiyQ1RtEIOxdneY923S05fCo2H4G45bPWIiwevZ-ebV9CmFXrhx4FIA4xycieRA-efbUER8__uCjoUtghyRme0yATaPZYvRyuJ6mWCW-OmCFCxtroYhJzkHdxikHXvYnueBMOr9cqK8_dY026bGKYgwrMbLKC_XuAP8lVn5a4TBE2rvzkXLadbbZga5f5e8JuHZAlufcV8re-qEuQK62KY74uZDeeuZq8QlgmH5fDOvbamGM9grWxoQHKYYXP7VFTcHxzM_-_gCD_V7_lLoKhK0JVDTjgh5twCQCF/file\n",
            "Reusing existing connection to uc55ca34dc44b6bdacd44cc29b46.dl.dropboxusercontent.com:443.\n",
            "HTTP request sent, awaiting response... 200 OK\n",
            "Length: 1832194 (1.7M) [application/vnd.openxmlformats-officedocument.spreadsheetml.sheet]\n",
            "Saving to: ‘news2018.xlsx’\n",
            "\n",
            "news2018.xlsx       100%[===================>]   1.75M  --.-KB/s    in 0.01s   \n",
            "\n",
            "2021-01-28 15:42:47 (145 MB/s) - ‘news2018.xlsx’ saved [1832194/1832194]\n",
            "\n"
          ],
          "name": "stdout"
        }
      ]
    },
    {
      "cell_type": "code",
      "metadata": {
        "id": "tGECncx5p1oY"
      },
      "source": [
        "import pandas as pd\n",
        "news = pd.read_excel(\"news2018.xlsx\")"
      ],
      "execution_count": null,
      "outputs": []
    },
    {
      "cell_type": "code",
      "metadata": {
        "colab": {
          "base_uri": "https://localhost:8080/"
        },
        "id": "7hEHJK87qjTU",
        "outputId": "a21ab4d5-e341-47ed-d7c8-5e17101fa215"
      },
      "source": [
        "news[\"본문\"][:4]"
      ],
      "execution_count": null,
      "outputs": [
        {
          "output_type": "execute_result",
          "data": {
            "text/plain": [
              "0    - 비핵화 수준 상응 조치 놓고\\n- 양국 협상팀 막판까지 ‘밀당’\\n- 1차 때와...\n",
              "1    김정은 국무위원장이 27일 시작되는 제2차 북미정상회담 성공을 위해 심혈을 기울이고...\n",
              "2    북미가 처음으로 정상 간 단독회담과 만찬을 가지며 또다시 새로운 역사 창조에 나섰다...\n",
              "3    지난해 9월 남북정상회담 당시 리선권 북한 조국평화통일위원장의 '냉면' 발언으로 정...\n",
              "Name: 본문, dtype: object"
            ]
          },
          "metadata": {
            "tags": []
          },
          "execution_count": 5
        }
      ]
    },
    {
      "cell_type": "code",
      "metadata": {
        "colab": {
          "base_uri": "https://localhost:8080/"
        },
        "id": "2Ka2_a8xq-P3",
        "outputId": "9323b63c-1522-4422-ae97-f834af9755b5"
      },
      "source": [
        "sentence_list = []\n",
        "for sent in news[\"본문\"]:\n",
        "    \n",
        "    ## 명사만 추출\n",
        "    sent_kkma_pos = kkma.nouns(sent)\n",
        "    word_list = []\n",
        "    for word_pos in sent_kkma_pos:\n",
        "        word_list.append(word_pos)\n",
        "\n",
        "    sentence_list.append(word_list)\n",
        "\n",
        "print(sentence_list[0:3])"
      ],
      "execution_count": null,
      "outputs": [
        {
          "output_type": "stream",
          "text": [
            "[['비핵화', '수준', '상응', '조치', '양국', '협상', '협상팀', '팀', '막판', '당', '1', '1차', '차', '때', '시간', '조율', '단계적', '접근', '동의', '예상', '종전', '종전선언', '선언', '연락', '연락사무소', '사무소', '개설', '등', '조건', '조건부', '부', '제재', '완화', '명시', '가능성', '북미', '북미회담', '회담', '빅딜', '성공', '김', '김정은', '정은', '답방', '결과', '연관', '북한', '국무', '국무위원장', '위원장', '도', '도널드', '널드', '트럼프', '미국', '대통령', '27', '27일', '일', '친교', '만찬'], ['김', '김정은', '정은', '국무', '국무위원장', '위원장', '27', '27일', '일', '시작', '저', '2', '2차', '차', '북미', '북미정상회담', '정상', '회담', '성공', '심혈', '조선', '조선중앙통신', '중앙', '통신', '이날', '26', '26일', '하노이', '도착', '리', '호텔', '실무', '실무대표단', '대표단', '보고', '조미', '수뇌', '수뇌회담', '성공적', '보장', '나라', '현지', '파견', '사이', '접촉', '정형', '결과', '을', '구체적', '청취'], ['북미', '처음', '정상', '간', '단독', '단독회담', '회담', '만찬', '역사', '창조', '결', '물', '도출', '북측', '영', '영변', '변', '핵', '핵시설', '시설', '폐기', '외', '추가', '추가적인', '적인', '비핵화', '조치', '미국', '금강산', '금강산관광', '관광', '등', '경제적', '체제', '체제보장', '보장', '여부', '양', '간', '톱', '담판', '김', '북한', '국무', '국무위원장', '위원장', '도', '도널드', '널드', '트럼프', '대통령', '27', '27일', '일', '오후', '6', '6시30분', '시', '30', '분', '현지', '현지시간', '시간']]\n"
          ],
          "name": "stdout"
        }
      ]
    },
    {
      "cell_type": "code",
      "metadata": {
        "colab": {
          "base_uri": "https://localhost:8080/"
        },
        "id": "dTq-vtCar0JC",
        "outputId": "fc121ee0-54af-4a10-d602-991b59b473d0"
      },
      "source": [
        "news.shape"
      ],
      "execution_count": null,
      "outputs": [
        {
          "output_type": "execute_result",
          "data": {
            "text/plain": [
              "(1543, 19)"
            ]
          },
          "metadata": {
            "tags": []
          },
          "execution_count": 7
        }
      ]
    },
    {
      "cell_type": "markdown",
      "metadata": {
        "id": "haii54kED_Kv"
      },
      "source": [
        "- gensim 이 제공하는 Word2Vec 객체를 생성하고 단어 벡터를 만든다."
      ]
    },
    {
      "cell_type": "code",
      "metadata": {
        "colab": {
          "base_uri": "https://localhost:8080/"
        },
        "id": "WvEiKwbiXBo7",
        "outputId": "2c7894cc-f9da-4de7-963f-8eedf40a55ee"
      },
      "source": [
        "model = Word2Vec(sentence_list, size=100)\n",
        "model.most_similar(\"한국\")"
      ],
      "execution_count": null,
      "outputs": [
        {
          "output_type": "stream",
          "text": [
            "/usr/local/lib/python3.6/dist-packages/ipykernel_launcher.py:2: DeprecationWarning: Call to deprecated `most_similar` (Method will be removed in 4.0.0, use self.wv.most_similar() instead).\n",
            "  \n"
          ],
          "name": "stderr"
        },
        {
          "output_type": "execute_result",
          "data": {
            "text/plain": [
              "[('자유', 0.9995148777961731),\n",
              " ('당', 0.9962297081947327),\n",
              " ('자유한국', 0.9947393536567688),\n",
              " ('민주당', 0.9930301904678345),\n",
              " ('경원', 0.9899195432662964),\n",
              " ('원내', 0.9898207187652588),\n",
              " ('원내대표', 0.9894647598266602),\n",
              " ('대표', 0.9880763292312622),\n",
              " ('영표', 0.9874325394630432),\n",
              " ('평화체제', 0.9870373010635376)]"
            ]
          },
          "metadata": {
            "tags": []
          },
          "execution_count": 8
        }
      ]
    },
    {
      "cell_type": "code",
      "metadata": {
        "colab": {
          "base_uri": "https://localhost:8080/"
        },
        "id": "Pjiz6wLRXBpB",
        "outputId": "8756f269-6ac2-4941-f2e7-5cbcf47702ff"
      },
      "source": [
        "print(model.similarity(\"트럼프\",\"미국\"))\n",
        "print(model.similarity(\"한국\",\"미국\"))"
      ],
      "execution_count": null,
      "outputs": [
        {
          "output_type": "stream",
          "text": [
            "0.9903813\n",
            "0.4242312\n"
          ],
          "name": "stdout"
        },
        {
          "output_type": "stream",
          "text": [
            "/usr/local/lib/python3.6/dist-packages/ipykernel_launcher.py:1: DeprecationWarning: Call to deprecated `similarity` (Method will be removed in 4.0.0, use self.wv.similarity() instead).\n",
            "  \"\"\"Entry point for launching an IPython kernel.\n",
            "/usr/local/lib/python3.6/dist-packages/ipykernel_launcher.py:2: DeprecationWarning: Call to deprecated `similarity` (Method will be removed in 4.0.0, use self.wv.similarity() instead).\n",
            "  \n"
          ],
          "name": "stderr"
        }
      ]
    },
    {
      "cell_type": "markdown",
      "metadata": {
        "id": "cPa-oF9bXBpP"
      },
      "source": [
        "# 문장 유사도"
      ]
    },
    {
      "cell_type": "markdown",
      "metadata": {
        "id": "Nlt3FuekEbpL"
      },
      "source": [
        "- nltk 라이브러리를 활용하여 두 문장의 편집거리 계산"
      ]
    },
    {
      "cell_type": "code",
      "metadata": {
        "colab": {
          "base_uri": "https://localhost:8080/"
        },
        "id": "bn7sVEJdXBpR",
        "outputId": "dc5b1bb9-49df-4285-81e5-b2da89a2bccf"
      },
      "source": [
        "import nltk\n",
        "sentence_list = [\"우리 모두 함께 놀자\", \"모두 같이 놀자\", \"놀자\", \"모두 다 같이\"]\n",
        "\n",
        "for i in sentence_list:\n",
        "    print(\"'\", i, \"'\")\n",
        "    for j in sentence_list:\n",
        "        print(\"\\t\", j, \" : \", end='')\n",
        "        print(nltk.edit_distance(i, j), )\n",
        "    print()"
      ],
      "execution_count": null,
      "outputs": [
        {
          "output_type": "stream",
          "text": [
            "' 우리 모두 함께 놀자 '\n",
            "\t 우리 모두 함께 놀자  : 0\n",
            "\t 모두 같이 놀자  : 5\n",
            "\t 놀자  : 9\n",
            "\t 모두 다 같이  : 7\n",
            "\n",
            "' 모두 같이 놀자 '\n",
            "\t 우리 모두 함께 놀자  : 5\n",
            "\t 모두 같이 놀자  : 0\n",
            "\t 놀자  : 6\n",
            "\t 모두 다 같이  : 4\n",
            "\n",
            "' 놀자 '\n",
            "\t 우리 모두 함께 놀자  : 9\n",
            "\t 모두 같이 놀자  : 6\n",
            "\t 놀자  : 0\n",
            "\t 모두 다 같이  : 7\n",
            "\n",
            "' 모두 다 같이 '\n",
            "\t 우리 모두 함께 놀자  : 7\n",
            "\t 모두 같이 놀자  : 4\n",
            "\t 놀자  : 7\n",
            "\t 모두 다 같이  : 0\n",
            "\n"
          ],
          "name": "stdout"
        }
      ]
    },
    {
      "cell_type": "markdown",
      "metadata": {
        "id": "HPOXDp-OEfuS"
      },
      "source": [
        "- TfidfVectorizer 객체를 활용하여 tfidf 단어행렬을 만든다.\r\n",
        "- CountVectorizer 객체를 활용하여 단어행렬을 만든다."
      ]
    },
    {
      "cell_type": "code",
      "metadata": {
        "id": "wgkIida2XBpX"
      },
      "source": [
        "from sklearn.feature_extraction.text import TfidfVectorizer, CountVectorizer\n",
        " \n",
        "sentence_list = ['우리 모두 함께 놀자','모두 함께 놀자']\n",
        " \n",
        "tfidf = TfidfVectorizer()\n",
        "tfidf_vec = tfidf.fit_transform(sentence_list)\n",
        "\n",
        "count = CountVectorizer()\n",
        "count_vec = count.fit_transform(sentence_list)"
      ],
      "execution_count": null,
      "outputs": []
    },
    {
      "cell_type": "code",
      "metadata": {
        "colab": {
          "base_uri": "https://localhost:8080/"
        },
        "id": "ayjiiYS5XBpd",
        "outputId": "d21277d3-f1c9-4dac-aba1-dad63a4f802e"
      },
      "source": [
        "from sklearn.metrics.pairwise import cosine_similarity\n",
        "\n",
        "tfidf_cosine = cosine_similarity(tfidf_vec[0].toarray(), tfidf_vec[1].toarray())[0][0]\n",
        "count_cosine = cosine_similarity(count_vec[0].toarray(), count_vec[1].toarray())[0][0]\n",
        "\n",
        "print(\"tfidf consine similarity : \", tfidf_cosine)\n",
        "print(\"coiunt consine similarity : \", count_cosine)"
      ],
      "execution_count": null,
      "outputs": [
        {
          "output_type": "stream",
          "text": [
            "tfidf consine similarity :  0.7765145304745156\n",
            "coiunt consine similarity :  0.8660254037844388\n"
          ],
          "name": "stdout"
        }
      ]
    },
    {
      "cell_type": "code",
      "metadata": {
        "id": "vAH4pczpXBpl"
      },
      "source": [
        "# 직접 구현시 코사인 유사도\n",
        "import math\n",
        "def cosine_similarity(v1,v2):\n",
        "    \n",
        "    sumxx, sumxy, sumyy = 0, 0, 0\n",
        "    for i in range(len(v1)):\n",
        "        x = v1[i]; y = v2[i]\n",
        "        sumxx += x*x\n",
        "        sumyy += y*y\n",
        "        sumxy += x*y\n",
        "    return sumxy/math.sqrt(sumxx*sumyy)"
      ],
      "execution_count": null,
      "outputs": []
    },
    {
      "cell_type": "code",
      "metadata": {
        "colab": {
          "base_uri": "https://localhost:8080/"
        },
        "id": "sKftwk2kXBpq",
        "outputId": "7350e25b-cb66-477e-f004-2fdf6cf03b48"
      },
      "source": [
        "# 자카드 유사도 계산\n",
        "\n",
        "sentence_list = ['우리 모두 함께 놀자','모두 함께 놀자']\n",
        "def get_jaccard_sim(str1, str2): \n",
        "    a = set(str1.split()) \n",
        "    b = set(str2.split())\n",
        "    c = a.intersection(b)\n",
        "    return float(len(c)) / (len(a) + len(b) - len(c))\n",
        "\n",
        "get_jaccard_sim(sentence_list[0], sentence_list[1])"
      ],
      "execution_count": null,
      "outputs": [
        {
          "output_type": "execute_result",
          "data": {
            "text/plain": [
              "0.75"
            ]
          },
          "metadata": {
            "tags": []
          },
          "execution_count": 14
        }
      ]
    },
    {
      "cell_type": "code",
      "metadata": {
        "id": "mG6h-32aXBpz",
        "colab": {
          "base_uri": "https://localhost:8080/"
        },
        "outputId": "ff96aa1b-4dc7-48c9-f453-5a999f8207ba"
      },
      "source": [
        "from nltk import ngrams\r\n",
        "\r\n",
        "sentence = 'this is a foo bar sentences and i want to ngramize it'\r\n",
        "n = 2\r\n",
        "sixgrams = ngrams(sentence.split(), n)\r\n",
        "for grams in sixgrams:\r\n",
        "  print(grams)"
      ],
      "execution_count": 1,
      "outputs": [
        {
          "output_type": "stream",
          "text": [
            "('this', 'is')\n",
            "('is', 'a')\n",
            "('a', 'foo')\n",
            "('foo', 'bar')\n",
            "('bar', 'sentences')\n",
            "('sentences', 'and')\n",
            "('and', 'i')\n",
            "('i', 'want')\n",
            "('want', 'to')\n",
            "('to', 'ngramize')\n",
            "('ngramize', 'it')\n"
          ],
          "name": "stdout"
        }
      ]
    }
  ]
}